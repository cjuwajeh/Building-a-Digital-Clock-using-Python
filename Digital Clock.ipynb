{
 "cells": [
  {
   "cell_type": "code",
   "execution_count": 1,
   "id": "0ad69733",
   "metadata": {},
   "outputs": [],
   "source": [
    "import tkinter as tk\n",
    "import time\n"
   ]
  },
  {
   "cell_type": "code",
   "execution_count": 2,
   "id": "fa258539",
   "metadata": {},
   "outputs": [],
   "source": [
    "def update_time():\n",
    "    current_time = time.strftime('%H:%M:%S')\n",
    "    label.config(text=current_time)\n",
    "    label.after(1000, update_time)  # Schedule the function to run after 1000ms (1 second)\n"
   ]
  },
  {
   "cell_type": "code",
   "execution_count": 3,
   "id": "5fc77601",
   "metadata": {},
   "outputs": [],
   "source": [
    "root = tk.Tk()\n",
    "root.title(\"Digital Clock\")\n",
    "\n",
    "# Create a label to display the time\n",
    "label = tk.Label(root, font=(\"Helvetica\", 48))\n",
    "label.pack(pady=20)\n"
   ]
  },
  {
   "cell_type": "code",
   "execution_count": null,
   "id": "ced8b640",
   "metadata": {},
   "outputs": [],
   "source": [
    "update_time()\n",
    "root.mainloop()\n"
   ]
  },
  {
   "cell_type": "code",
   "execution_count": null,
   "id": "f1206bfc",
   "metadata": {},
   "outputs": [],
   "source": []
  }
 ],
 "metadata": {
  "kernelspec": {
   "display_name": "Python 3 (ipykernel)",
   "language": "python",
   "name": "python3"
  },
  "language_info": {
   "codemirror_mode": {
    "name": "ipython",
    "version": 3
   },
   "file_extension": ".py",
   "mimetype": "text/x-python",
   "name": "python",
   "nbconvert_exporter": "python",
   "pygments_lexer": "ipython3",
   "version": "3.11.5"
  }
 },
 "nbformat": 4,
 "nbformat_minor": 5
}
